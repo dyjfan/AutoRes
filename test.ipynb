{
 "cells": [
  {
   "cell_type": "code",
   "execution_count": 1,
   "id": "c403e5a5",
   "metadata": {},
   "outputs": [],
   "source": [
    "import pickle\n",
    "from db import get_spectra_sqlite, save_spectra_sqlite, rand_sub_sqlite, rand_sub_sqlite1, \\\n",
    "                      get_mz_ranges, convert_to_dense, plot_mz_hist, filter_spectra\n",
    "from da import data_augmentation_1, data_augmentation_2\n",
    "from snn import plot_loss_accuracy, check_pSCNN, build_pSCNN, load_pSCNN, \\\n",
    "                      predict_pSCNN, evaluate_pSCNN\n",
    "from AutoRes import AutoRes, output_msp\n",
    "from NetCDF import netcdf_reader  "
   ]
  },
  {
   "cell_type": "code",
   "execution_count": 2,
   "id": "fdb4a64a",
   "metadata": {},
   "outputs": [],
   "source": [
    "model_name1 = 'model/pSCNN1'\n",
    "model_name2 = 'model/pSCNN2'\n",
    "maxn1 = 1\n",
    "maxn2 = 3\n",
    "mz_range = (1, 1000)"
   ]
  },
  {
   "cell_type": "code",
   "execution_count": 3,
   "id": "ba17fa0f",
   "metadata": {},
   "outputs": [
    {
     "name": "stderr",
     "output_type": "stream",
     "text": [
      "Get spectra: 100%|████████████████████████████████████████████████████████████| 10000/10000 [00:00<00:00, 27275.38it/s]\n",
      "Convert to dense: 100%|███████████████████████████████████████████████████████| 10000/10000 [00:00<00:00, 73191.87it/s]\n",
      "Data augmentation: 100%|█████████████████████████████████████████████████████| 100000/100000 [00:15<00:00, 6623.70it/s]\n"
     ]
    },
    {
     "name": "stdout",
     "output_type": "stream",
     "text": [
      "6250/6250 [==============================] - 25s 4ms/step - loss: 0.0014 - accuracy: 0.9997\n"
     ]
    }
   ],
   "source": [
    "#train pSCNN1 model\n",
    "if check_pSCNN(model_name1):\n",
    "        model1 = load_pSCNN(model_name1)\n",
    "else:\n",
    "    para = {'dbname': 'dataset/NIST_Spec0-236200.db',\n",
    "            'mz_range': mz_range, \n",
    "            'aug_num': 200000,\n",
    "            'noise_level': 0.001,\n",
    "            'maxn': maxn1,\n",
    "            'layer_num': 3,\n",
    "            'batch': 200,\n",
    "            'epoch': 200,\n",
    "            'lr': 0.001,\n",
    "            'factor':0.8,\n",
    "            'min_lr':0.000002,\n",
    "            'model_name': model_name1}\n",
    "    model1 = build_pSCNN(para)\n",
    "#test pSCNN1 model\n",
    "dbname1 = 'dataset/NIST_Spec-10000.db'\n",
    "spectra1 = get_spectra_sqlite(dbname1)\n",
    "convert_to_dense(spectra1, mz_range)  \n",
    "aug_eval1 = data_augmentation_1(spectra1, 100000, maxn1, 0.001)\n",
    "eval_acc1 = evaluate_pSCNN(model1, [aug_eval1['R'], aug_eval1['S']], aug_eval1['y'])\n",
    "yp1 = predict_pSCNN(model1, [aug_eval1['R'], aug_eval1['S']])"
   ]
  },
  {
   "cell_type": "code",
   "execution_count": 4,
   "id": "fb03e884",
   "metadata": {},
   "outputs": [
    {
     "name": "stderr",
     "output_type": "stream",
     "text": [
      "Get spectra: 100%|████████████████████████████████████████████████████████████| 10000/10000 [00:00<00:00, 27777.45it/s]\n",
      "Convert to dense: 100%|███████████████████████████████████████████████████████| 10000/10000 [00:00<00:00, 69146.64it/s]\n",
      "Data augmentation: 100%|███████████████████████████████████████████████████████| 10000/10000 [00:01<00:00, 5842.08it/s]\n",
      "Data augmentation: 100%|███████████████████████████████████████████████████████| 90000/90000 [00:14<00:00, 6135.18it/s]\n"
     ]
    },
    {
     "name": "stdout",
     "output_type": "stream",
     "text": [
      "6250/6250 [==============================] - 19s 3ms/step - loss: 0.2083 - accuracy: 0.9243\n"
     ]
    }
   ],
   "source": [
    "#train pSCNN2 model\n",
    "with open('dataset/data.pk', 'rb') as file_1:\n",
    "     c = pickle.load(file_1)  \n",
    "if check_pSCNN(model_name2):\n",
    "    model2 = load_pSCNN(model_name2)\n",
    "else:\n",
    "    para = {'dbname': 'dataset/NIST_Spec0-236200.db',\n",
    "            'mz_range': mz_range,\n",
    "            'aug_num0': 100000,\n",
    "            'aug_num1': 100000,\n",
    "            'noise_level': 0.001,\n",
    "            'maxn': maxn2,\n",
    "            'layer_num': 2,\n",
    "            'batch': 200,\n",
    "            'epoch': 200,\n",
    "            'lr': 0.0001,\n",
    "            'factor':0.8,\n",
    "            'min_lr':0.0000001,\n",
    "            'c':c,\n",
    "            'model_name': model_name2}\n",
    "    model2 = build_pSCNN(para)\n",
    "#test pSCNN2 model\n",
    "with open('dataset/data1.pk', 'rb') as file_1:\n",
    "     c1 = pickle.load(file_1) \n",
    "spectra2 = get_spectra_sqlite('dataset/NIST_Spec-10000.db')\n",
    "convert_to_dense(spectra2, mz_range)\n",
    "aug_eval2 = data_augmentation_2(spectra2, c1, 10000, 90000, maxn2, 0.001)\n",
    "eval_acc2 = evaluate_pSCNN(model2, [aug_eval2['R'], aug_eval2['S']], aug_eval2['y'])\n",
    "yp2 = predict_pSCNN(model2, [aug_eval2['R'], aug_eval2['S']])"
   ]
  },
  {
   "cell_type": "code",
   "execution_count": 5,
   "id": "3b535c97",
   "metadata": {},
   "outputs": [
    {
     "name": "stderr",
     "output_type": "stream",
     "text": [
      "D:\\anaconda\\envs\\tf25\\lib\\site-packages\\scipy\\io\\netcdf.py:306: RuntimeWarning: Cannot close a netcdf_file opened with mmap=True, when netcdf_variables or arrays referring to its data still exist. All data arrays obtained from such files refer directly to data on disk, and must be copied before the file can be cleanly closed. (See netcdf_file docstring for more information on mmap.)\n",
      "  warnings.warn((\n"
     ]
    }
   ],
   "source": [
    "filename = 'D:/CDF/06-0.2-3.CDF'\n",
    "sta_S0, area0, rt0, R_2_0 = AutoRes(filename, model1, model2)"
   ]
  }
 ],
 "metadata": {
  "kernelspec": {
   "display_name": "Python 3 (ipykernel)",
   "language": "python",
   "name": "python3"
  },
  "language_info": {
   "codemirror_mode": {
    "name": "ipython",
    "version": 3
   },
   "file_extension": ".py",
   "mimetype": "text/x-python",
   "name": "python",
   "nbconvert_exporter": "python",
   "pygments_lexer": "ipython3",
   "version": "3.8.12"
  }
 },
 "nbformat": 4,
 "nbformat_minor": 5
}
